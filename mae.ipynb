{
 "cells": [
  {
   "cell_type": "markdown",
   "metadata": {},
   "source": [
    "### Imports"
   ]
  },
  {
   "cell_type": "code",
   "execution_count": 1,
   "metadata": {},
   "outputs": [],
   "source": [
    "import torch\n",
    "import matplotlib.pyplot as plt\n",
    "import numpy as np\n",
    "import torch.nn as nn\n",
    "import kornia\n",
    "import utils.definitions as D\n",
    "\n",
    "DEVICE = torch.device(\"cuda\" if torch.cuda.is_available() else \"cpu\")"
   ]
  },
  {
   "cell_type": "markdown",
   "metadata": {},
   "source": [
    "### Load Dataset"
   ]
  },
  {
   "cell_type": "markdown",
   "metadata": {},
   "source": [
    "#### a) Data Augmentation"
   ]
  },
  {
   "cell_type": "code",
   "execution_count": 2,
   "metadata": {},
   "outputs": [],
   "source": [
    "import torchvision.transforms as transforms\n",
    "\n",
    "train_tf = transforms.Compose([\n",
    "    transforms.Resize(size=(D.IMAGE_SIZE, D.IMAGE_SIZE)),\n",
    "    transforms.RandomHorizontalFlip(),\n",
    "    transforms.ToTensor(),\n",
    "])\n",
    "\n",
    "test_tf = transforms.Compose([\n",
    "    transforms.Resize(size=(D.IMAGE_SIZE, D.IMAGE_SIZE)),\n",
    "    transforms.ToTensor(),\n",
    "])"
   ]
  },
  {
   "cell_type": "markdown",
   "metadata": {},
   "source": [
    "#### b) Load dataset"
   ]
  },
  {
   "cell_type": "markdown",
   "metadata": {},
   "source": [
    "##### CIFAR10"
   ]
  },
  {
   "cell_type": "code",
   "execution_count": null,
   "metadata": {},
   "outputs": [],
   "source": [
    "from torch.utils.data import DataLoader\n",
    "from torchvision.datasets import CIFAR10\n",
    "\n",
    "trainset = CIFAR10(root='./data', train=True, download=True, transform=train_tf)\n",
    "trainloader = DataLoader(trainset, batch_size=D.BATCH_SIZE, shuffle=True)\n",
    "\n",
    "testset = CIFAR10(root='./data', train=False, download=True, transform=test_tf)\n",
    "testloader = DataLoader(testset, batch_size=D.BATCH_SIZE, shuffle=False)\n",
    "\n",
    "print(f\"Training samples: {len(trainset)}\")\n",
    "print(f\"Testing samples: {len(testset)}\")"
   ]
  },
  {
   "cell_type": "markdown",
   "metadata": {},
   "source": [
    "##### CelebA"
   ]
  },
  {
   "cell_type": "code",
   "execution_count": 3,
   "metadata": {},
   "outputs": [
    {
     "name": "stdout",
     "output_type": "stream",
     "text": [
      "Files already downloaded and verified\n",
      "Files already downloaded and verified\n",
      "Training samples: 162770\n",
      "Testing samples: 19962\n"
     ]
    }
   ],
   "source": [
    "from torch.utils.data import DataLoader\n",
    "from torchvision.datasets import CelebA\n",
    "\n",
    "trainset = CelebA(root='./data', split='train', download=True, transform=train_tf)\n",
    "trainloader = DataLoader(trainset, batch_size=D.BATCH_SIZE, shuffle=True)\n",
    "\n",
    "testset = CelebA(root='./data', split='test', download=True, transform=test_tf)\n",
    "testloader = DataLoader(testset, batch_size=D.BATCH_SIZE, shuffle=False)\n",
    "\n",
    "print(f\"Training samples: {len(trainset)}\")\n",
    "print(f\"Testing samples: {len(testset)}\")"
   ]
  },
  {
   "cell_type": "markdown",
   "metadata": {},
   "source": [
    "### Create Patches\n",
    "Create patches from input images"
   ]
  },
  {
   "cell_type": "code",
   "execution_count": 19,
   "metadata": {},
   "outputs": [],
   "source": [
    "class Patches():\n",
    "    def __init__(self, patch_size=D.PATCH_SIZE):\n",
    "        super().__init__()\n",
    "        self.patch_size = patch_size\n",
    "        \n",
    "    def __call__(self, images):\n",
    "        patches = kornia.contrib.extract_tensor_patches(\n",
    "            input=images,\n",
    "            window_size=(self.patch_size, self.patch_size),\n",
    "            stride=(self.patch_size, self.patch_size),\n",
    "        )\n",
    "        \n",
    "        # (batch, num_patches, channels, patch_height, patch_width)\n",
    "        return patches\n",
    "        \n",
    "    def show_patched_image(self, images, patches):\n",
    "        \"\"\"This is a utility function which accepts a batch of images and its corresponding patches and help visualize one image and its patches side by side.\"\"\"\n",
    "        idx = np.random.choice(patches.shape[0])\n",
    "        print(f\"Index selected: {idx}.\")\n",
    "\n",
    "        plt.figure(figsize=(4, 4))\n",
    "        plt.imshow(images[idx].permute(1, 2, 0).numpy())\n",
    "        plt.axis(\"off\")\n",
    "        plt.show()\n",
    "\n",
    "        n = int(np.sqrt(patches.shape[1]))\n",
    "        plt.figure(figsize=(4, 4))\n",
    "        for i, patch in enumerate(patches[idx]):\n",
    "            ax = plt.subplot(n, n, i + 1)\n",
    "            patch_img = patch.permute(1, 2, 0).numpy()\n",
    "            plt.imshow(patch_img)\n",
    "            plt.axis(\"off\")\n",
    "        plt.show()\n",
    "        \n",
    "        # Return the index chosen to validate it outside the method.\n",
    "        return idx\n",
    "    \n",
    "    def reconstruct_from_patch(self, patch):\n",
    "        \"\"\"Takes the patches from a single image and reconstructs it back into the image\"\"\"\n",
    "        num_patches = patch.shape[0]\n",
    "        nrows = int(np.sqrt(num_patches))\n",
    "        \n",
    "        # View as (batch, patch_height, patch_width, channels)\n",
    "        patch = patch.permute(0, 2, 3, 1)\n",
    "        rows = patch.split(nrows, dim=0)\n",
    "        rows = [torch.cat(torch.unbind(x), dim=1) for x in rows]\n",
    "        reconstructed = torch.cat(rows, dim=0)\n",
    "        return reconstructed"
   ]
  },
  {
   "cell_type": "code",
   "execution_count": 20,
   "metadata": {},
   "outputs": [
    {
     "name": "stdout",
     "output_type": "stream",
     "text": [
      "Index selected: 251.\n"
     ]
    },
    {
     "data": {
      "image/png": "[encoded data removed]",
      "text/plain": [
       "<Figure size 400x400 with 1 Axes>"
      ]
     },
     "metadata": {},
     "output_type": "display_data"
    },
    {
     "data": {
      "image/png": "[encoded data removed]",
      "text/plain": [
       "<Figure size 400x400 with 64 Axes>"
      ]
     },
     "metadata": {},
     "output_type": "display_data"
    }
   ],
   "source": [
    "# Get a batch of images.\n",
    "images, labels = next(iter(trainloader))\n",
    "\n",
    "# Define the patch layer.\n",
    "patch_layer = Patches()\n",
    "\n",
    "# Get the patches from the batched images.\n",
    "patches = patch_layer(images=images)\n",
    "\n",
    "# Pass the images and its patches to the `show_patched_image` method.\n",
    "random_index = patch_layer.show_patched_image(images=images, patches=patches)"
   ]
  },
  {
   "cell_type": "code",
   "execution_count": 21,
   "metadata": {},
   "outputs": [
    {
     "data": {
      "image/png": "[encoded data removed]",
      "text/plain": [
       "<Figure size 640x480 with 1 Axes>"
      ]
     },
     "metadata": {},
     "output_type": "display_data"
    }
   ],
   "source": [
    "# Get the same image and try reconstructing the patches into the original image.\n",
    "image = patch_layer.reconstruct_from_patch(patches[random_index])\n",
    "plt.imshow(image)\n",
    "plt.axis(\"off\")\n",
    "plt.show()"
   ]
  },
  {
   "cell_type": "markdown",
   "metadata": {},
   "source": [
    "### Patch Encoder\n",
    "This layer deals with encoding the patches and adding the positional embedding"
   ]
  },
  {
   "cell_type": "code",
   "execution_count": 29,
   "metadata": {},
   "outputs": [],
   "source": [
    "class PatchEncoder():\n",
    "    def __init__(\n",
    "        self,\n",
    "        patch_size=D.PATCH_SIZE,\n",
    "        num_patches=D.NUM_PATCHES,\n",
    "        projection_dim=D.ENC_PROJECTION_DIM,\n",
    "        mask_proportion=D.MASK_PROPORTION,\n",
    "        n_channels=3,\n",
    "    ):\n",
    "        self.patch_size = patch_size\n",
    "        self.num_patches = num_patches\n",
    "        self.projection_dim = projection_dim\n",
    "        self.mask_proportion = mask_proportion\n",
    "        self.num_mask = int(self.mask_proportion * self.num_patches)\n",
    "        \n",
    "        # Create the projection layer for the patches\n",
    "        in_features = n_channels * patch_size * patch_size\n",
    "        self.projection = nn.Linear(in_features=in_features, out_features=self.projection_dim)\n",
    "        \n",
    "        # Create the positional embedding layer\n",
    "        self.positional_embedding = nn.Embedding(num_embeddings=self.num_patches, embedding_dim=self.projection_dim)\n",
    "    \n",
    "    def __call__(self, patches):\n",
    "        # View patches as (batch, num_patches, patch_area)\n",
    "        patches = patches.view(*patches.shape[:2], -1)\n",
    "\n",
    "        # Get the positional embeddings\n",
    "        batch_size = patches.shape[0]\n",
    "        positions = torch.arange(start=0, end=self.num_patches, step=1)\n",
    "        pos_embeddings = self.positional_embedding(positions[None, :])\n",
    "        pos_embeddings = torch.tile(pos_embeddings, (batch_size, 1, 1))\n",
    "\n",
    "        # Embed the patches\n",
    "        patch_embeddings = (self.projection(patches) + pos_embeddings)\n",
    "        \n",
    "        batch_size = patches.shape[0]\n",
    "        mask_indices, unmask_indices = self.get_random_indices(batch_size)\n",
    "\n",
    "        # The encoder input is the unmasked patch embeddings. Here we gather all the patches that should be unmasked.\n",
    "        unmasked_embeddings = self.gather_torch(patch_embeddings, unmask_indices.unsqueeze(2))\n",
    "\n",
    "        # Get the unmasked and masked position embeddings. We will need them for the decoder.\n",
    "        unmasked_positions = self.gather_torch(pos_embeddings, unmask_indices.unsqueeze(2))\n",
    "        masked_positions = self.gather_torch(pos_embeddings, mask_indices.unsqueeze(2))\n",
    "        \n",
    "        # Repeat the mask token number of mask times. Mask tokens replace the masks of the image.\n",
    "        mask_token = torch.normal(size=(1, self.patch_size * self.patch_size * 3), mean=0.0, std=1.0)\n",
    "        mask_tokens = mask_token.repeat((self.num_mask, 1))\n",
    "        mask_tokens = mask_tokens.unsqueeze(0).repeat((batch_size, 1, 1))\n",
    "\n",
    "        masked_embeddings = self.projection(mask_tokens) + masked_positions\n",
    "\n",
    "        return (\n",
    "            unmasked_embeddings,    # input to the encoder\n",
    "            masked_embeddings,      # first part of input to the decoder\n",
    "            unmasked_positions,     # added to the encoder outputs\n",
    "            mask_indices,           # the indices that were masked\n",
    "            unmask_indices,         # the indices that were unmaksed\n",
    "        )\n",
    "    \n",
    "    def get_random_indices(self, batch_size):\n",
    "        \"\"\"Create random indices from a uniform distribution and then split it into mask and unmask indices\"\"\"\n",
    "        rand_indices = torch.argsort(\n",
    "           torch.rand(size=(batch_size, self.num_patches)), dim=-1\n",
    "        )\n",
    "        mask_indices = rand_indices[:, :self.num_mask]\n",
    "        unmask_indices = rand_indices[:, self.num_mask:]\n",
    "        return mask_indices, unmask_indices\n",
    "    \n",
    "    def show_masked_image(self, patches, unmask_indices):\n",
    "        # Choose a random patch and its corresponding unmask index\n",
    "        idx = np.random.choice(patches.shape[0])\n",
    "        patch = patches[idx]\n",
    "        unmask_index = unmask_indices[idx]\n",
    "\n",
    "        # Build a numpy array of same shape as patch\n",
    "        new_patch = np.zeros_like(patch)\n",
    "\n",
    "        # Iterate over the new_patch and plug the unmasked patches\n",
    "        for i in range(unmask_index.shape[0]):\n",
    "            new_patch[unmask_index[i]] = patch[unmask_index[i]]\n",
    "        return new_patch, idx\n",
    "    \n",
    "    @staticmethod\n",
    "    def gather_torch(params, indices, batch_dim=1):\n",
    "        \"\"\"A PyTorch porting of tensorflow.gather_nd by Kulbear https://gist.github.com/Kulbear/b421c32fb64deddfd0403340db4eeeaa\n",
    "        \n",
    "        Args:\n",
    "            params: a tensor of dimension [b1, ..., bn, g1, ..., gm, c].\n",
    "            indices: a tensor of dimension [b1, ..., bn, x, m]\n",
    "            batch_dim: indicate how many batch dimension you have, in the above example, batch_dim = n.\n",
    "        Returns:\n",
    "            gathered: a tensor of dimension [b1, ..., bn, x, c].\n",
    "        \"\"\"\n",
    "        batch_dims = params.size()[:batch_dim]          # [b1, ..., bn]\n",
    "        batch_size = np.cumprod(list(batch_dims))[-1]   # b1 * ... * bn\n",
    "        c_dim = params.size()[-1]                       # c\n",
    "        grid_dims = params.size()[batch_dim:-1]         # [g1, ..., gm]\n",
    "        n_indices = indices.size(-2)                    # x\n",
    "        n_pos = indices.size(-1)                        # m\n",
    "\n",
    "        # Reshape leading batch dims to a single batch dim\n",
    "        params = params.reshape(batch_size, *grid_dims, c_dim)\n",
    "        indices = indices.reshape(batch_size, n_indices, n_pos)\n",
    "\n",
    "        # Build gather indices\n",
    "        # Gather for each of the data point in this \"batch\"\n",
    "        batch_enumeration = torch.arange(batch_size).unsqueeze(1)\n",
    "        gather_dims = [indices[:, :, i] for i in range(len(grid_dims))]\n",
    "        gather_dims.insert(0, batch_enumeration)\n",
    "        gathered = params[gather_dims]\n",
    "\n",
    "        # Reshape back to the shape with leading batch dims\n",
    "        gathered = gathered.reshape(*batch_dims, n_indices, c_dim)\n",
    "        return gathered\n",
    "\n",
    "        "
   ]
  },
  {
   "cell_type": "code",
   "execution_count": 30,
   "metadata": {},
   "outputs": [],
   "source": [
    "# Create the patch encoder layer.\n",
    "patch_encoder = PatchEncoder()\n",
    "\n",
    "# Get the embeddings and positions.\n",
    "(\n",
    "    unmasked_embeddings,\n",
    "    masked_embeddings,\n",
    "    unmasked_positions,\n",
    "    mask_indices,\n",
    "    unmask_indices,\n",
    ") = patch_encoder(patches=patches)"
   ]
  },
  {
   "cell_type": "code",
   "execution_count": 31,
   "metadata": {},
   "outputs": [
    {
     "data": {
      "image/png": "[encoded data removed]",
      "text/plain": [
       "<Figure size 1000x1000 with 2 Axes>"
      ]
     },
     "metadata": {},
     "output_type": "display_data"
    }
   ],
   "source": [
    "# Show a maksed patch image.\n",
    "new_patch, random_index = patch_encoder.show_masked_image(patches, unmask_indices)\n",
    "\n",
    "plt.figure(figsize=(10, 10))\n",
    "plt.subplot(1, 2, 1)\n",
    "img = patch_layer.reconstruct_from_patch(torch.from_numpy(new_patch))\n",
    "plt.imshow(img)\n",
    "plt.axis(\"off\")\n",
    "plt.title(\"Masked\")\n",
    "plt.subplot(1, 2, 2)\n",
    "img = images[random_index].permute(1, 2, 0)\n",
    "plt.imshow(img)\n",
    "plt.axis(\"off\")\n",
    "plt.title(\"Original\")\n",
    "plt.show()"
   ]
  },
  {
   "cell_type": "markdown",
   "metadata": {},
   "source": [
    "### MLP"
   ]
  },
  {
   "cell_type": "code",
   "execution_count": null,
   "metadata": {},
   "outputs": [],
   "source": [
    "def mlp(x, dropout_rate, hidden_units):\n",
    "    in_features = x.size(-1)\n",
    "    for units in hidden_units:\n",
    "        x = nn.Linear(in_features=in_features, out_features=units)(x)\n",
    "        x = nn.GELU()(x)\n",
    "        x = nn.Dropout(p=dropout_rate)(x)\n",
    "    return x"
   ]
  },
  {
   "cell_type": "markdown",
   "metadata": {},
   "source": [
    "### MaskedAutoEncoder Model"
   ]
  },
  {
   "cell_type": "code",
   "execution_count": null,
   "metadata": {},
   "outputs": [],
   "source": []
  }
 ],
 "metadata": {
  "kernelspec": {
   "display_name": "projects",
   "language": "python",
   "name": "python3"
  },
  "language_info": {
   "codemirror_mode": {
    "name": "ipython",
    "version": 3
   },
   "file_extension": ".py",
   "mimetype": "text/x-python",
   "name": "python",
   "nbconvert_exporter": "python",
   "pygments_lexer": "ipython3",
   "version": "3.10.11"
  }
 },
 "nbformat": 4,
 "nbformat_minor": 2
}
